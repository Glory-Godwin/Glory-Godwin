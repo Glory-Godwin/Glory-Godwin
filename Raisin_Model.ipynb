{
  "cells": [
    {
      "cell_type": "markdown",
      "metadata": {
        "id": "view-in-github",
        "colab_type": "text"
      },
      "source": [
        "<a href=\"https://colab.research.google.com/github/Glory-Godwin/Glory-Godwin/blob/main/Raisin_Model.ipynb\" target=\"_parent\"><img src=\"https://colab.research.google.com/assets/colab-badge.svg\" alt=\"Open In Colab\"/></a>"
      ]
    },
    {
      "cell_type": "markdown",
      "id": "e9107c18-2e3c-4173-85cb-b7408905798f",
      "metadata": {
        "id": "e9107c18-2e3c-4173-85cb-b7408905798f"
      },
      "source": [
        "# Raisin Classification Model: Predicting Kecimen vs Besni"
      ]
    },
    {
      "cell_type": "markdown",
      "id": "6f43f2c1-c528-4906-9bb4-4eedae5d2606",
      "metadata": {
        "id": "6f43f2c1-c528-4906-9bb4-4eedae5d2606"
      },
      "source": [
        "## Import libraries"
      ]
    },
    {
      "cell_type": "code",
      "execution_count": null,
      "id": "a2b690b6-8e6c-4a00-a30c-f81549957ebc",
      "metadata": {
        "id": "a2b690b6-8e6c-4a00-a30c-f81549957ebc"
      },
      "outputs": [],
      "source": [
        "import pandas as pd\n",
        "import numpy as np\n",
        "import matplotlib.pyplot as plt\n",
        "import seaborn as sns\n",
        "\n",
        "\n",
        "from sklearn.preprocessing import LabelEncoder, StandardScaler\n",
        "from sklearn.model_selection import train_test_split,GridSearchCV\n",
        "\n",
        "from sklearn.linear_model import LogisticRegression\n",
        "from sklearn.ensemble import RandomForestClassifier\n",
        "\n",
        "from sklearn.metrics import accuracy_score, classification_report,confusion_matrix,ConfusionMatrixDisplay,roc_curve,roc_auc_score\n",
        "\n",
        "from sklearn.model_selection import cross_validate\n",
        "import warnings\n",
        "warnings.filterwarnings(\"ignore\")"
      ]
    },
    {
      "cell_type": "markdown",
      "id": "46fecf54-e05c-4bd8-b4ea-a51537ef0f7c",
      "metadata": {
        "id": "46fecf54-e05c-4bd8-b4ea-a51537ef0f7c"
      },
      "source": [
        "## Load the dataset"
      ]
    },
    {
      "cell_type": "code",
      "execution_count": null,
      "id": "6e67f606-e6c1-45a7-80af-3303b51d210a",
      "metadata": {
        "id": "6e67f606-e6c1-45a7-80af-3303b51d210a"
      },
      "outputs": [],
      "source": [
        "data =pd.read_excel(r\"C:\\Users\\Name\\Downloads\\Raisin_Dataset.xlsx\")"
      ]
    },
    {
      "cell_type": "code",
      "execution_count": null,
      "id": "08121f3a-6ad7-4e1c-a508-7c20a4548f30",
      "metadata": {
        "id": "08121f3a-6ad7-4e1c-a508-7c20a4548f30",
        "outputId": "0518b589-c634-4b09-b01f-c1766fc20032"
      },
      "outputs": [
        {
          "data": {
            "text/html": [
              "<div>\n",
              "<style scoped>\n",
              "    .dataframe tbody tr th:only-of-type {\n",
              "        vertical-align: middle;\n",
              "    }\n",
              "\n",
              "    .dataframe tbody tr th {\n",
              "        vertical-align: top;\n",
              "    }\n",
              "\n",
              "    .dataframe thead th {\n",
              "        text-align: right;\n",
              "    }\n",
              "</style>\n",
              "<table border=\"1\" class=\"dataframe\">\n",
              "  <thead>\n",
              "    <tr style=\"text-align: right;\">\n",
              "      <th></th>\n",
              "      <th>Area</th>\n",
              "      <th>MajorAxisLength</th>\n",
              "      <th>MinorAxisLength</th>\n",
              "      <th>Eccentricity</th>\n",
              "      <th>ConvexArea</th>\n",
              "      <th>Extent</th>\n",
              "      <th>Perimeter</th>\n",
              "      <th>Class</th>\n",
              "    </tr>\n",
              "  </thead>\n",
              "  <tbody>\n",
              "    <tr>\n",
              "      <th>0</th>\n",
              "      <td>87524</td>\n",
              "      <td>442.246011</td>\n",
              "      <td>253.291155</td>\n",
              "      <td>0.819738</td>\n",
              "      <td>90546</td>\n",
              "      <td>0.758651</td>\n",
              "      <td>1184.040</td>\n",
              "      <td>Kecimen</td>\n",
              "    </tr>\n",
              "    <tr>\n",
              "      <th>1</th>\n",
              "      <td>75166</td>\n",
              "      <td>406.690687</td>\n",
              "      <td>243.032436</td>\n",
              "      <td>0.801805</td>\n",
              "      <td>78789</td>\n",
              "      <td>0.684130</td>\n",
              "      <td>1121.786</td>\n",
              "      <td>Kecimen</td>\n",
              "    </tr>\n",
              "    <tr>\n",
              "      <th>2</th>\n",
              "      <td>90856</td>\n",
              "      <td>442.267048</td>\n",
              "      <td>266.328318</td>\n",
              "      <td>0.798354</td>\n",
              "      <td>93717</td>\n",
              "      <td>0.637613</td>\n",
              "      <td>1208.575</td>\n",
              "      <td>Kecimen</td>\n",
              "    </tr>\n",
              "    <tr>\n",
              "      <th>3</th>\n",
              "      <td>45928</td>\n",
              "      <td>286.540559</td>\n",
              "      <td>208.760042</td>\n",
              "      <td>0.684989</td>\n",
              "      <td>47336</td>\n",
              "      <td>0.699599</td>\n",
              "      <td>844.162</td>\n",
              "      <td>Kecimen</td>\n",
              "    </tr>\n",
              "    <tr>\n",
              "      <th>4</th>\n",
              "      <td>79408</td>\n",
              "      <td>352.190770</td>\n",
              "      <td>290.827533</td>\n",
              "      <td>0.564011</td>\n",
              "      <td>81463</td>\n",
              "      <td>0.792772</td>\n",
              "      <td>1073.251</td>\n",
              "      <td>Kecimen</td>\n",
              "    </tr>\n",
              "    <tr>\n",
              "      <th>...</th>\n",
              "      <td>...</td>\n",
              "      <td>...</td>\n",
              "      <td>...</td>\n",
              "      <td>...</td>\n",
              "      <td>...</td>\n",
              "      <td>...</td>\n",
              "      <td>...</td>\n",
              "      <td>...</td>\n",
              "    </tr>\n",
              "    <tr>\n",
              "      <th>895</th>\n",
              "      <td>83248</td>\n",
              "      <td>430.077308</td>\n",
              "      <td>247.838695</td>\n",
              "      <td>0.817263</td>\n",
              "      <td>85839</td>\n",
              "      <td>0.668793</td>\n",
              "      <td>1129.072</td>\n",
              "      <td>Besni</td>\n",
              "    </tr>\n",
              "    <tr>\n",
              "      <th>896</th>\n",
              "      <td>87350</td>\n",
              "      <td>440.735698</td>\n",
              "      <td>259.293149</td>\n",
              "      <td>0.808629</td>\n",
              "      <td>90899</td>\n",
              "      <td>0.636476</td>\n",
              "      <td>1214.252</td>\n",
              "      <td>Besni</td>\n",
              "    </tr>\n",
              "    <tr>\n",
              "      <th>897</th>\n",
              "      <td>99657</td>\n",
              "      <td>431.706981</td>\n",
              "      <td>298.837323</td>\n",
              "      <td>0.721684</td>\n",
              "      <td>106264</td>\n",
              "      <td>0.741099</td>\n",
              "      <td>1292.828</td>\n",
              "      <td>Besni</td>\n",
              "    </tr>\n",
              "    <tr>\n",
              "      <th>898</th>\n",
              "      <td>93523</td>\n",
              "      <td>476.344094</td>\n",
              "      <td>254.176054</td>\n",
              "      <td>0.845739</td>\n",
              "      <td>97653</td>\n",
              "      <td>0.658798</td>\n",
              "      <td>1258.548</td>\n",
              "      <td>Besni</td>\n",
              "    </tr>\n",
              "    <tr>\n",
              "      <th>899</th>\n",
              "      <td>85609</td>\n",
              "      <td>512.081774</td>\n",
              "      <td>215.271976</td>\n",
              "      <td>0.907345</td>\n",
              "      <td>89197</td>\n",
              "      <td>0.632020</td>\n",
              "      <td>1272.862</td>\n",
              "      <td>Besni</td>\n",
              "    </tr>\n",
              "  </tbody>\n",
              "</table>\n",
              "<p>900 rows × 8 columns</p>\n",
              "</div>"
            ],
            "text/plain": [
              "      Area  MajorAxisLength  MinorAxisLength  Eccentricity  ConvexArea  \\\n",
              "0    87524       442.246011       253.291155      0.819738       90546   \n",
              "1    75166       406.690687       243.032436      0.801805       78789   \n",
              "2    90856       442.267048       266.328318      0.798354       93717   \n",
              "3    45928       286.540559       208.760042      0.684989       47336   \n",
              "4    79408       352.190770       290.827533      0.564011       81463   \n",
              "..     ...              ...              ...           ...         ...   \n",
              "895  83248       430.077308       247.838695      0.817263       85839   \n",
              "896  87350       440.735698       259.293149      0.808629       90899   \n",
              "897  99657       431.706981       298.837323      0.721684      106264   \n",
              "898  93523       476.344094       254.176054      0.845739       97653   \n",
              "899  85609       512.081774       215.271976      0.907345       89197   \n",
              "\n",
              "       Extent  Perimeter    Class  \n",
              "0    0.758651   1184.040  Kecimen  \n",
              "1    0.684130   1121.786  Kecimen  \n",
              "2    0.637613   1208.575  Kecimen  \n",
              "3    0.699599    844.162  Kecimen  \n",
              "4    0.792772   1073.251  Kecimen  \n",
              "..        ...        ...      ...  \n",
              "895  0.668793   1129.072    Besni  \n",
              "896  0.636476   1214.252    Besni  \n",
              "897  0.741099   1292.828    Besni  \n",
              "898  0.658798   1258.548    Besni  \n",
              "899  0.632020   1272.862    Besni  \n",
              "\n",
              "[900 rows x 8 columns]"
            ]
          },
          "execution_count": 5,
          "metadata": {},
          "output_type": "execute_result"
        }
      ],
      "source": [
        "data"
      ]
    },
    {
      "cell_type": "markdown",
      "id": "54bee16f-877d-4b80-a907-ae31c93cd878",
      "metadata": {
        "id": "54bee16f-877d-4b80-a907-ae31c93cd878"
      },
      "source": [
        "## Data Cleaning"
      ]
    },
    {
      "cell_type": "code",
      "execution_count": null,
      "id": "7719c426-1dd6-4b4d-840a-3c67b646530e",
      "metadata": {
        "id": "7719c426-1dd6-4b4d-840a-3c67b646530e",
        "outputId": "3c6811b7-48b1-45f7-bfdb-24fed92dd0d8"
      },
      "outputs": [
        {
          "name": "stdout",
          "output_type": "stream",
          "text": [
            "<class 'pandas.core.frame.DataFrame'>\n",
            "RangeIndex: 900 entries, 0 to 899\n",
            "Data columns (total 8 columns):\n",
            " #   Column           Non-Null Count  Dtype  \n",
            "---  ------           --------------  -----  \n",
            " 0   Area             900 non-null    int64  \n",
            " 1   MajorAxisLength  900 non-null    float64\n",
            " 2   MinorAxisLength  900 non-null    float64\n",
            " 3   Eccentricity     900 non-null    float64\n",
            " 4   ConvexArea       900 non-null    int64  \n",
            " 5   Extent           900 non-null    float64\n",
            " 6   Perimeter        900 non-null    float64\n",
            " 7   Class            900 non-null    object \n",
            "dtypes: float64(5), int64(2), object(1)\n",
            "memory usage: 56.4+ KB\n"
          ]
        }
      ],
      "source": [
        "data.info()"
      ]
    },
    {
      "cell_type": "code",
      "execution_count": null,
      "id": "20ea2765-e537-4b6f-a230-63b7a6bdd69e",
      "metadata": {
        "id": "20ea2765-e537-4b6f-a230-63b7a6bdd69e",
        "outputId": "c696622e-63d4-4e83-a510-c9cefcca41d8"
      },
      "outputs": [
        {
          "data": {
            "text/plain": [
              "Area               0\n",
              "MajorAxisLength    0\n",
              "MinorAxisLength    0\n",
              "Eccentricity       0\n",
              "ConvexArea         0\n",
              "Extent             0\n",
              "Perimeter          0\n",
              "Class              0\n",
              "dtype: int64"
            ]
          },
          "execution_count": 7,
          "metadata": {},
          "output_type": "execute_result"
        }
      ],
      "source": [
        "data.isna().sum()"
      ]
    },
    {
      "cell_type": "code",
      "execution_count": null,
      "id": "be7c044b-1305-4d58-8a8d-87b852e7e2ff",
      "metadata": {
        "id": "be7c044b-1305-4d58-8a8d-87b852e7e2ff",
        "outputId": "43ac46aa-70bf-4a39-9b2c-0bd6d19313c4"
      },
      "outputs": [
        {
          "data": {
            "text/plain": [
              "0"
            ]
          },
          "execution_count": 8,
          "metadata": {},
          "output_type": "execute_result"
        }
      ],
      "source": [
        "data.duplicated().sum()"
      ]
    },
    {
      "cell_type": "code",
      "execution_count": null,
      "id": "701303f3-2eb1-48ae-8893-eb5bc96fa4dc",
      "metadata": {
        "id": "701303f3-2eb1-48ae-8893-eb5bc96fa4dc",
        "outputId": "e8fa146b-8b77-4047-8e3d-1808dd4c6177"
      },
      "outputs": [
        {
          "data": {
            "text/html": [
              "<div>\n",
              "<style scoped>\n",
              "    .dataframe tbody tr th:only-of-type {\n",
              "        vertical-align: middle;\n",
              "    }\n",
              "\n",
              "    .dataframe tbody tr th {\n",
              "        vertical-align: top;\n",
              "    }\n",
              "\n",
              "    .dataframe thead th {\n",
              "        text-align: right;\n",
              "    }\n",
              "</style>\n",
              "<table border=\"1\" class=\"dataframe\">\n",
              "  <thead>\n",
              "    <tr style=\"text-align: right;\">\n",
              "      <th></th>\n",
              "      <th>Area</th>\n",
              "      <th>MajorAxisLength</th>\n",
              "      <th>MinorAxisLength</th>\n",
              "      <th>Eccentricity</th>\n",
              "      <th>ConvexArea</th>\n",
              "      <th>Extent</th>\n",
              "      <th>Perimeter</th>\n",
              "    </tr>\n",
              "  </thead>\n",
              "  <tbody>\n",
              "    <tr>\n",
              "      <th>count</th>\n",
              "      <td>900.000000</td>\n",
              "      <td>900.000000</td>\n",
              "      <td>900.000000</td>\n",
              "      <td>900.000000</td>\n",
              "      <td>900.000000</td>\n",
              "      <td>900.000000</td>\n",
              "      <td>900.000000</td>\n",
              "    </tr>\n",
              "    <tr>\n",
              "      <th>mean</th>\n",
              "      <td>87804.127778</td>\n",
              "      <td>430.929950</td>\n",
              "      <td>254.488133</td>\n",
              "      <td>0.781542</td>\n",
              "      <td>91186.090000</td>\n",
              "      <td>0.699508</td>\n",
              "      <td>1165.906636</td>\n",
              "    </tr>\n",
              "    <tr>\n",
              "      <th>std</th>\n",
              "      <td>39002.111390</td>\n",
              "      <td>116.035121</td>\n",
              "      <td>49.988902</td>\n",
              "      <td>0.090318</td>\n",
              "      <td>40769.290132</td>\n",
              "      <td>0.053468</td>\n",
              "      <td>273.764315</td>\n",
              "    </tr>\n",
              "    <tr>\n",
              "      <th>min</th>\n",
              "      <td>25387.000000</td>\n",
              "      <td>225.629541</td>\n",
              "      <td>143.710872</td>\n",
              "      <td>0.348730</td>\n",
              "      <td>26139.000000</td>\n",
              "      <td>0.379856</td>\n",
              "      <td>619.074000</td>\n",
              "    </tr>\n",
              "    <tr>\n",
              "      <th>25%</th>\n",
              "      <td>59348.000000</td>\n",
              "      <td>345.442898</td>\n",
              "      <td>219.111126</td>\n",
              "      <td>0.741766</td>\n",
              "      <td>61513.250000</td>\n",
              "      <td>0.670869</td>\n",
              "      <td>966.410750</td>\n",
              "    </tr>\n",
              "    <tr>\n",
              "      <th>50%</th>\n",
              "      <td>78902.000000</td>\n",
              "      <td>407.803951</td>\n",
              "      <td>247.848409</td>\n",
              "      <td>0.798846</td>\n",
              "      <td>81651.000000</td>\n",
              "      <td>0.707367</td>\n",
              "      <td>1119.509000</td>\n",
              "    </tr>\n",
              "    <tr>\n",
              "      <th>75%</th>\n",
              "      <td>105028.250000</td>\n",
              "      <td>494.187014</td>\n",
              "      <td>279.888575</td>\n",
              "      <td>0.842571</td>\n",
              "      <td>108375.750000</td>\n",
              "      <td>0.734991</td>\n",
              "      <td>1308.389750</td>\n",
              "    </tr>\n",
              "    <tr>\n",
              "      <th>max</th>\n",
              "      <td>235047.000000</td>\n",
              "      <td>997.291941</td>\n",
              "      <td>492.275279</td>\n",
              "      <td>0.962124</td>\n",
              "      <td>278217.000000</td>\n",
              "      <td>0.835455</td>\n",
              "      <td>2697.753000</td>\n",
              "    </tr>\n",
              "  </tbody>\n",
              "</table>\n",
              "</div>"
            ],
            "text/plain": [
              "                Area  MajorAxisLength  MinorAxisLength  Eccentricity  \\\n",
              "count     900.000000       900.000000       900.000000    900.000000   \n",
              "mean    87804.127778       430.929950       254.488133      0.781542   \n",
              "std     39002.111390       116.035121        49.988902      0.090318   \n",
              "min     25387.000000       225.629541       143.710872      0.348730   \n",
              "25%     59348.000000       345.442898       219.111126      0.741766   \n",
              "50%     78902.000000       407.803951       247.848409      0.798846   \n",
              "75%    105028.250000       494.187014       279.888575      0.842571   \n",
              "max    235047.000000       997.291941       492.275279      0.962124   \n",
              "\n",
              "          ConvexArea      Extent    Perimeter  \n",
              "count     900.000000  900.000000   900.000000  \n",
              "mean    91186.090000    0.699508  1165.906636  \n",
              "std     40769.290132    0.053468   273.764315  \n",
              "min     26139.000000    0.379856   619.074000  \n",
              "25%     61513.250000    0.670869   966.410750  \n",
              "50%     81651.000000    0.707367  1119.509000  \n",
              "75%    108375.750000    0.734991  1308.389750  \n",
              "max    278217.000000    0.835455  2697.753000  "
            ]
          },
          "execution_count": 9,
          "metadata": {},
          "output_type": "execute_result"
        }
      ],
      "source": [
        "data.describe()"
      ]
    },
    {
      "cell_type": "markdown",
      "id": "cc3e12f1-58be-48e7-9fc6-28264065bf26",
      "metadata": {
        "id": "cc3e12f1-58be-48e7-9fc6-28264065bf26"
      },
      "source": [
        "## Defining Features and Target"
      ]
    },
    {
      "cell_type": "code",
      "execution_count": null,
      "id": "601d23c5-2f49-425d-819b-c93434eca58e",
      "metadata": {
        "id": "601d23c5-2f49-425d-819b-c93434eca58e"
      },
      "outputs": [],
      "source": [
        "x=data.drop(columns=[\"Class\"])\n",
        "\n",
        "y=data[\"Class\"]"
      ]
    },
    {
      "cell_type": "code",
      "execution_count": null,
      "id": "732ab06a-eda2-4b17-b8e4-04dc85eb7516",
      "metadata": {
        "id": "732ab06a-eda2-4b17-b8e4-04dc85eb7516",
        "outputId": "2b2fd55b-b4d9-40fb-d19e-229682f5f0c7"
      },
      "outputs": [
        {
          "data": {
            "text/html": [
              "<div>\n",
              "<style scoped>\n",
              "    .dataframe tbody tr th:only-of-type {\n",
              "        vertical-align: middle;\n",
              "    }\n",
              "\n",
              "    .dataframe tbody tr th {\n",
              "        vertical-align: top;\n",
              "    }\n",
              "\n",
              "    .dataframe thead th {\n",
              "        text-align: right;\n",
              "    }\n",
              "</style>\n",
              "<table border=\"1\" class=\"dataframe\">\n",
              "  <thead>\n",
              "    <tr style=\"text-align: right;\">\n",
              "      <th></th>\n",
              "      <th>Area</th>\n",
              "      <th>MajorAxisLength</th>\n",
              "      <th>MinorAxisLength</th>\n",
              "      <th>Eccentricity</th>\n",
              "      <th>ConvexArea</th>\n",
              "      <th>Extent</th>\n",
              "      <th>Perimeter</th>\n",
              "    </tr>\n",
              "  </thead>\n",
              "  <tbody>\n",
              "    <tr>\n",
              "      <th>0</th>\n",
              "      <td>87524</td>\n",
              "      <td>442.246011</td>\n",
              "      <td>253.291155</td>\n",
              "      <td>0.819738</td>\n",
              "      <td>90546</td>\n",
              "      <td>0.758651</td>\n",
              "      <td>1184.040</td>\n",
              "    </tr>\n",
              "    <tr>\n",
              "      <th>1</th>\n",
              "      <td>75166</td>\n",
              "      <td>406.690687</td>\n",
              "      <td>243.032436</td>\n",
              "      <td>0.801805</td>\n",
              "      <td>78789</td>\n",
              "      <td>0.684130</td>\n",
              "      <td>1121.786</td>\n",
              "    </tr>\n",
              "    <tr>\n",
              "      <th>2</th>\n",
              "      <td>90856</td>\n",
              "      <td>442.267048</td>\n",
              "      <td>266.328318</td>\n",
              "      <td>0.798354</td>\n",
              "      <td>93717</td>\n",
              "      <td>0.637613</td>\n",
              "      <td>1208.575</td>\n",
              "    </tr>\n",
              "    <tr>\n",
              "      <th>3</th>\n",
              "      <td>45928</td>\n",
              "      <td>286.540559</td>\n",
              "      <td>208.760042</td>\n",
              "      <td>0.684989</td>\n",
              "      <td>47336</td>\n",
              "      <td>0.699599</td>\n",
              "      <td>844.162</td>\n",
              "    </tr>\n",
              "    <tr>\n",
              "      <th>4</th>\n",
              "      <td>79408</td>\n",
              "      <td>352.190770</td>\n",
              "      <td>290.827533</td>\n",
              "      <td>0.564011</td>\n",
              "      <td>81463</td>\n",
              "      <td>0.792772</td>\n",
              "      <td>1073.251</td>\n",
              "    </tr>\n",
              "    <tr>\n",
              "      <th>...</th>\n",
              "      <td>...</td>\n",
              "      <td>...</td>\n",
              "      <td>...</td>\n",
              "      <td>...</td>\n",
              "      <td>...</td>\n",
              "      <td>...</td>\n",
              "      <td>...</td>\n",
              "    </tr>\n",
              "    <tr>\n",
              "      <th>895</th>\n",
              "      <td>83248</td>\n",
              "      <td>430.077308</td>\n",
              "      <td>247.838695</td>\n",
              "      <td>0.817263</td>\n",
              "      <td>85839</td>\n",
              "      <td>0.668793</td>\n",
              "      <td>1129.072</td>\n",
              "    </tr>\n",
              "    <tr>\n",
              "      <th>896</th>\n",
              "      <td>87350</td>\n",
              "      <td>440.735698</td>\n",
              "      <td>259.293149</td>\n",
              "      <td>0.808629</td>\n",
              "      <td>90899</td>\n",
              "      <td>0.636476</td>\n",
              "      <td>1214.252</td>\n",
              "    </tr>\n",
              "    <tr>\n",
              "      <th>897</th>\n",
              "      <td>99657</td>\n",
              "      <td>431.706981</td>\n",
              "      <td>298.837323</td>\n",
              "      <td>0.721684</td>\n",
              "      <td>106264</td>\n",
              "      <td>0.741099</td>\n",
              "      <td>1292.828</td>\n",
              "    </tr>\n",
              "    <tr>\n",
              "      <th>898</th>\n",
              "      <td>93523</td>\n",
              "      <td>476.344094</td>\n",
              "      <td>254.176054</td>\n",
              "      <td>0.845739</td>\n",
              "      <td>97653</td>\n",
              "      <td>0.658798</td>\n",
              "      <td>1258.548</td>\n",
              "    </tr>\n",
              "    <tr>\n",
              "      <th>899</th>\n",
              "      <td>85609</td>\n",
              "      <td>512.081774</td>\n",
              "      <td>215.271976</td>\n",
              "      <td>0.907345</td>\n",
              "      <td>89197</td>\n",
              "      <td>0.632020</td>\n",
              "      <td>1272.862</td>\n",
              "    </tr>\n",
              "  </tbody>\n",
              "</table>\n",
              "<p>900 rows × 7 columns</p>\n",
              "</div>"
            ],
            "text/plain": [
              "      Area  MajorAxisLength  MinorAxisLength  Eccentricity  ConvexArea  \\\n",
              "0    87524       442.246011       253.291155      0.819738       90546   \n",
              "1    75166       406.690687       243.032436      0.801805       78789   \n",
              "2    90856       442.267048       266.328318      0.798354       93717   \n",
              "3    45928       286.540559       208.760042      0.684989       47336   \n",
              "4    79408       352.190770       290.827533      0.564011       81463   \n",
              "..     ...              ...              ...           ...         ...   \n",
              "895  83248       430.077308       247.838695      0.817263       85839   \n",
              "896  87350       440.735698       259.293149      0.808629       90899   \n",
              "897  99657       431.706981       298.837323      0.721684      106264   \n",
              "898  93523       476.344094       254.176054      0.845739       97653   \n",
              "899  85609       512.081774       215.271976      0.907345       89197   \n",
              "\n",
              "       Extent  Perimeter  \n",
              "0    0.758651   1184.040  \n",
              "1    0.684130   1121.786  \n",
              "2    0.637613   1208.575  \n",
              "3    0.699599    844.162  \n",
              "4    0.792772   1073.251  \n",
              "..        ...        ...  \n",
              "895  0.668793   1129.072  \n",
              "896  0.636476   1214.252  \n",
              "897  0.741099   1292.828  \n",
              "898  0.658798   1258.548  \n",
              "899  0.632020   1272.862  \n",
              "\n",
              "[900 rows x 7 columns]"
            ]
          },
          "execution_count": 12,
          "metadata": {},
          "output_type": "execute_result"
        }
      ],
      "source": [
        "x"
      ]
    },
    {
      "cell_type": "markdown",
      "id": "4062b062-8e70-4f1d-b35b-6b129319c868",
      "metadata": {
        "id": "4062b062-8e70-4f1d-b35b-6b129319c868"
      },
      "source": [
        "## Feature Encoding"
      ]
    },
    {
      "cell_type": "code",
      "execution_count": null,
      "id": "48fc5624-bb68-4336-84cd-18a20aae7f46",
      "metadata": {
        "id": "48fc5624-bb68-4336-84cd-18a20aae7f46",
        "outputId": "81872437-678d-45a4-960b-a10e4a910bb4"
      },
      "outputs": [
        {
          "data": {
            "text/plain": [
              "array([1, 1, 1, 1, 1, 1, 1, 1, 1, 1, 1, 1, 1, 1, 1, 1, 1, 1, 1, 1, 1, 1,\n",
              "       1, 1, 1, 1, 1, 1, 1, 1, 1, 1, 1, 1, 1, 1, 1, 1, 1, 1, 1, 1, 1, 1,\n",
              "       1, 1, 1, 1, 1, 1, 1, 1, 1, 1, 1, 1, 1, 1, 1, 1, 1, 1, 1, 1, 1, 1,\n",
              "       1, 1, 1, 1, 1, 1, 1, 1, 1, 1, 1, 1, 1, 1, 1, 1, 1, 1, 1, 1, 1, 1,\n",
              "       1, 1, 1, 1, 1, 1, 1, 1, 1, 1, 1, 1, 1, 1, 1, 1, 1, 1, 1, 1, 1, 1,\n",
              "       1, 1, 1, 1, 1, 1, 1, 1, 1, 1, 1, 1, 1, 1, 1, 1, 1, 1, 1, 1, 1, 1,\n",
              "       1, 1, 1, 1, 1, 1, 1, 1, 1, 1, 1, 1, 1, 1, 1, 1, 1, 1, 1, 1, 1, 1,\n",
              "       1, 1, 1, 1, 1, 1, 1, 1, 1, 1, 1, 1, 1, 1, 1, 1, 1, 1, 1, 1, 1, 1,\n",
              "       1, 1, 1, 1, 1, 1, 1, 1, 1, 1, 1, 1, 1, 1, 1, 1, 1, 1, 1, 1, 1, 1,\n",
              "       1, 1, 1, 1, 1, 1, 1, 1, 1, 1, 1, 1, 1, 1, 1, 1, 1, 1, 1, 1, 1, 1,\n",
              "       1, 1, 1, 1, 1, 1, 1, 1, 1, 1, 1, 1, 1, 1, 1, 1, 1, 1, 1, 1, 1, 1,\n",
              "       1, 1, 1, 1, 1, 1, 1, 1, 1, 1, 1, 1, 1, 1, 1, 1, 1, 1, 1, 1, 1, 1,\n",
              "       1, 1, 1, 1, 1, 1, 1, 1, 1, 1, 1, 1, 1, 1, 1, 1, 1, 1, 1, 1, 1, 1,\n",
              "       1, 1, 1, 1, 1, 1, 1, 1, 1, 1, 1, 1, 1, 1, 1, 1, 1, 1, 1, 1, 1, 1,\n",
              "       1, 1, 1, 1, 1, 1, 1, 1, 1, 1, 1, 1, 1, 1, 1, 1, 1, 1, 1, 1, 1, 1,\n",
              "       1, 1, 1, 1, 1, 1, 1, 1, 1, 1, 1, 1, 1, 1, 1, 1, 1, 1, 1, 1, 1, 1,\n",
              "       1, 1, 1, 1, 1, 1, 1, 1, 1, 1, 1, 1, 1, 1, 1, 1, 1, 1, 1, 1, 1, 1,\n",
              "       1, 1, 1, 1, 1, 1, 1, 1, 1, 1, 1, 1, 1, 1, 1, 1, 1, 1, 1, 1, 1, 1,\n",
              "       1, 1, 1, 1, 1, 1, 1, 1, 1, 1, 1, 1, 1, 1, 1, 1, 1, 1, 1, 1, 1, 1,\n",
              "       1, 1, 1, 1, 1, 1, 1, 1, 1, 1, 1, 1, 1, 1, 1, 1, 1, 1, 1, 1, 1, 1,\n",
              "       1, 1, 1, 1, 1, 1, 1, 1, 1, 1, 0, 0, 0, 0, 0, 0, 0, 0, 0, 0, 0, 0,\n",
              "       0, 0, 0, 0, 0, 0, 0, 0, 0, 0, 0, 0, 0, 0, 0, 0, 0, 0, 0, 0, 0, 0,\n",
              "       0, 0, 0, 0, 0, 0, 0, 0, 0, 0, 0, 0, 0, 0, 0, 0, 0, 0, 0, 0, 0, 0,\n",
              "       0, 0, 0, 0, 0, 0, 0, 0, 0, 0, 0, 0, 0, 0, 0, 0, 0, 0, 0, 0, 0, 0,\n",
              "       0, 0, 0, 0, 0, 0, 0, 0, 0, 0, 0, 0, 0, 0, 0, 0, 0, 0, 0, 0, 0, 0,\n",
              "       0, 0, 0, 0, 0, 0, 0, 0, 0, 0, 0, 0, 0, 0, 0, 0, 0, 0, 0, 0, 0, 0,\n",
              "       0, 0, 0, 0, 0, 0, 0, 0, 0, 0, 0, 0, 0, 0, 0, 0, 0, 0, 0, 0, 0, 0,\n",
              "       0, 0, 0, 0, 0, 0, 0, 0, 0, 0, 0, 0, 0, 0, 0, 0, 0, 0, 0, 0, 0, 0,\n",
              "       0, 0, 0, 0, 0, 0, 0, 0, 0, 0, 0, 0, 0, 0, 0, 0, 0, 0, 0, 0, 0, 0,\n",
              "       0, 0, 0, 0, 0, 0, 0, 0, 0, 0, 0, 0, 0, 0, 0, 0, 0, 0, 0, 0, 0, 0,\n",
              "       0, 0, 0, 0, 0, 0, 0, 0, 0, 0, 0, 0, 0, 0, 0, 0, 0, 0, 0, 0, 0, 0,\n",
              "       0, 0, 0, 0, 0, 0, 0, 0, 0, 0, 0, 0, 0, 0, 0, 0, 0, 0, 0, 0, 0, 0,\n",
              "       0, 0, 0, 0, 0, 0, 0, 0, 0, 0, 0, 0, 0, 0, 0, 0, 0, 0, 0, 0, 0, 0,\n",
              "       0, 0, 0, 0, 0, 0, 0, 0, 0, 0, 0, 0, 0, 0, 0, 0, 0, 0, 0, 0, 0, 0,\n",
              "       0, 0, 0, 0, 0, 0, 0, 0, 0, 0, 0, 0, 0, 0, 0, 0, 0, 0, 0, 0, 0, 0,\n",
              "       0, 0, 0, 0, 0, 0, 0, 0, 0, 0, 0, 0, 0, 0, 0, 0, 0, 0, 0, 0, 0, 0,\n",
              "       0, 0, 0, 0, 0, 0, 0, 0, 0, 0, 0, 0, 0, 0, 0, 0, 0, 0, 0, 0, 0, 0,\n",
              "       0, 0, 0, 0, 0, 0, 0, 0, 0, 0, 0, 0, 0, 0, 0, 0, 0, 0, 0, 0, 0, 0,\n",
              "       0, 0, 0, 0, 0, 0, 0, 0, 0, 0, 0, 0, 0, 0, 0, 0, 0, 0, 0, 0, 0, 0,\n",
              "       0, 0, 0, 0, 0, 0, 0, 0, 0, 0, 0, 0, 0, 0, 0, 0, 0, 0, 0, 0, 0, 0,\n",
              "       0, 0, 0, 0, 0, 0, 0, 0, 0, 0, 0, 0, 0, 0, 0, 0, 0, 0, 0, 0])"
            ]
          },
          "execution_count": 17,
          "metadata": {},
          "output_type": "execute_result"
        }
      ],
      "source": [
        "le=LabelEncoder()\n",
        "\n",
        "le.fit_transform(y)\n"
      ]
    },
    {
      "cell_type": "markdown",
      "id": "d1263c2e-f6ba-48ec-8cc5-455721695fa9",
      "metadata": {
        "id": "d1263c2e-f6ba-48ec-8cc5-455721695fa9"
      },
      "source": [
        "## Feature Correlation"
      ]
    },
    {
      "cell_type": "code",
      "execution_count": null,
      "id": "c196ebb2-20eb-4640-8d8f-be11d2f73643",
      "metadata": {
        "id": "c196ebb2-20eb-4640-8d8f-be11d2f73643",
        "outputId": "ce1c2e47-f6bc-49cb-cc4c-0acdc5e3152a"
      },
      "outputs": [
        {
          "data": {
            "image/png": "[encoded data removed]",
            "text/plain": [
              "<Figure size 1600x900 with 2 Axes>"
            ]
          },
          "metadata": {},
          "output_type": "display_data"
        }
      ],
      "source": [
        "plt.figure(figsize=(16,9))\n",
        "sns.heatmap(x.corr(), annot=True)\n",
        "plt.show()"
      ]
    },
    {
      "cell_type": "markdown",
      "id": "13196f6a-ab94-4283-a3b8-dbe67af09091",
      "metadata": {
        "id": "13196f6a-ab94-4283-a3b8-dbe67af09091"
      },
      "source": [
        "## Feature Scaling"
      ]
    },
    {
      "cell_type": "code",
      "execution_count": null,
      "id": "466a2fba-2675-4b4b-a34f-10a1f72b03d9",
      "metadata": {
        "id": "466a2fba-2675-4b4b-a34f-10a1f72b03d9"
      },
      "outputs": [],
      "source": [
        "scaler= StandardScaler() # we're using standard scaler method to scale, from -1 to 1\n",
        "scaledX = scaler.fit_transform(x)"
      ]
    },
    {
      "cell_type": "code",
      "execution_count": null,
      "id": "a59367eb-ff23-4ca5-b352-01fdbfe838ce",
      "metadata": {
        "id": "a59367eb-ff23-4ca5-b352-01fdbfe838ce",
        "outputId": "09e87ea1-2c45-4577-cf83-2b4deb331fa3"
      },
      "outputs": [
        {
          "data": {
            "text/plain": [
              "array([[-0.00718637,  0.09757695, -0.02395819, ..., -0.01570903,\n",
              "         1.10674264,  0.06627397],\n",
              "       [-0.32421719, -0.20901207, -0.22929222, ..., -0.3042482 ,\n",
              "        -0.28777679, -0.16125245],\n",
              "       [ 0.07829241,  0.09775835,  0.23698797, ...,  0.06211335,\n",
              "        -1.15824974,  0.15594468],\n",
              "       ...,\n",
              "       [ 0.30407232,  0.00670023,  0.88767401, ...,  0.37004063,\n",
              "         0.77828911,  0.46387322],\n",
              "       [ 0.14671134,  0.39160036, -0.00624644, ...,  0.15871029,\n",
              "        -0.76180437,  0.3385864 ],\n",
              "       [-0.05631357,  0.69976181, -0.78493347, ..., -0.04881606,\n",
              "        -1.26290931,  0.39090133]])"
            ]
          },
          "execution_count": 16,
          "metadata": {},
          "output_type": "execute_result"
        }
      ],
      "source": [
        "scaledX"
      ]
    },
    {
      "cell_type": "markdown",
      "id": "e39ca144-1df4-4e4a-895e-af514c5c3ed5",
      "metadata": {
        "id": "e39ca144-1df4-4e4a-895e-af514c5c3ed5"
      },
      "source": [
        "## Train and Test split"
      ]
    },
    {
      "cell_type": "code",
      "execution_count": null,
      "id": "80d4907a-4561-4cd3-91d0-87d2d96723f1",
      "metadata": {
        "id": "80d4907a-4561-4cd3-91d0-87d2d96723f1"
      },
      "outputs": [],
      "source": [
        "X_train, X_test, y_train,y_test = train_test_split(scaledX,y,test_size=0.2,random_state=20)"
      ]
    },
    {
      "cell_type": "code",
      "execution_count": null,
      "id": "feb7bab8-b5ea-4a23-beb8-4f18580c2c28",
      "metadata": {
        "id": "feb7bab8-b5ea-4a23-beb8-4f18580c2c28",
        "outputId": "0d62a730-8885-4780-a96f-2b3efae5e2a0"
      },
      "outputs": [
        {
          "data": {
            "text/plain": [
              "(720, 7)"
            ]
          },
          "execution_count": 19,
          "metadata": {},
          "output_type": "execute_result"
        }
      ],
      "source": [
        "X_train.shape"
      ]
    },
    {
      "cell_type": "code",
      "execution_count": null,
      "id": "78728a17-0fe3-4ab4-bf69-a2f2867b1b6c",
      "metadata": {
        "id": "78728a17-0fe3-4ab4-bf69-a2f2867b1b6c",
        "outputId": "083d85c5-7bd3-46da-acff-bd756e4f8a45"
      },
      "outputs": [
        {
          "data": {
            "text/plain": [
              "(180, 7)"
            ]
          },
          "execution_count": 20,
          "metadata": {},
          "output_type": "execute_result"
        }
      ],
      "source": [
        "X_test.shape"
      ]
    },
    {
      "cell_type": "markdown",
      "id": "121fab91-677e-4f3e-a6a4-4a9277e66d39",
      "metadata": {
        "id": "121fab91-677e-4f3e-a6a4-4a9277e66d39"
      },
      "source": [
        "## Logistic Regression"
      ]
    },
    {
      "cell_type": "code",
      "execution_count": null,
      "id": "f8afdbcd-a419-47de-91d0-e5737e3c4361",
      "metadata": {
        "id": "f8afdbcd-a419-47de-91d0-e5737e3c4361",
        "outputId": "16b33320-8bd8-4a47-b7a8-7e50e625d5d5"
      },
      "outputs": [
        {
          "data": {
            "text/html": [
              "<style>#sk-container-id-1 {\n",
              "  /* Definition of color scheme common for light and dark mode */\n",
              "  --sklearn-color-text: black;\n",
              "  --sklearn-color-line: gray;\n",
              "  /* Definition of color scheme for unfitted estimators */\n",
              "  --sklearn-color-unfitted-level-0: #fff5e6;\n",
              "  --sklearn-color-unfitted-level-1: #f6e4d2;\n",
              "  --sklearn-color-unfitted-level-2: #ffe0b3;\n",
              "  --sklearn-color-unfitted-level-3: chocolate;\n",
              "  /* Definition of color scheme for fitted estimators */\n",
              "  --sklearn-color-fitted-level-0: #f0f8ff;\n",
              "  --sklearn-color-fitted-level-1: #d4ebff;\n",
              "  --sklearn-color-fitted-level-2: #b3dbfd;\n",
              "  --sklearn-color-fitted-level-3: cornflowerblue;\n",
              "\n",
              "  /* Specific color for light theme */\n",
              "  --sklearn-color-text-on-default-background: var(--sg-text-color, var(--theme-code-foreground, var(--jp-content-font-color1, black)));\n",
              "  --sklearn-color-background: var(--sg-background-color, var(--theme-background, var(--jp-layout-color0, white)));\n",
              "  --sklearn-color-border-box: var(--sg-text-color, var(--theme-code-foreground, var(--jp-content-font-color1, black)));\n",
              "  --sklearn-color-icon: #696969;\n",
              "\n",
              "  @media (prefers-color-scheme: dark) {\n",
              "    /* Redefinition of color scheme for dark theme */\n",
              "    --sklearn-color-text-on-default-background: var(--sg-text-color, var(--theme-code-foreground, var(--jp-content-font-color1, white)));\n",
              "    --sklearn-color-background: var(--sg-background-color, var(--theme-background, var(--jp-layout-color0, #111)));\n",
              "    --sklearn-color-border-box: var(--sg-text-color, var(--theme-code-foreground, var(--jp-content-font-color1, white)));\n",
              "    --sklearn-color-icon: #878787;\n",
              "  }\n",
              "}\n",
              "\n",
              "#sk-container-id-1 {\n",
              "  color: var(--sklearn-color-text);\n",
              "}\n",
              "\n",
              "#sk-container-id-1 pre {\n",
              "  padding: 0;\n",
              "}\n",
              "\n",
              "#sk-container-id-1 input.sk-hidden--visually {\n",
              "  border: 0;\n",
              "  clip: rect(1px 1px 1px 1px);\n",
              "  clip: rect(1px, 1px, 1px, 1px);\n",
              "  height: 1px;\n",
              "  margin: -1px;\n",
              "  overflow: hidden;\n",
              "  padding: 0;\n",
              "  position: absolute;\n",
              "  width: 1px;\n",
              "}\n",
              "\n",
              "#sk-container-id-1 div.sk-dashed-wrapped {\n",
              "  border: 1px dashed var(--sklearn-color-line);\n",
              "  margin: 0 0.4em 0.5em 0.4em;\n",
              "  box-sizing: border-box;\n",
              "  padding-bottom: 0.4em;\n",
              "  background-color: var(--sklearn-color-background);\n",
              "}\n",
              "\n",
              "#sk-container-id-1 div.sk-container {\n",
              "  /* jupyter's `normalize.less` sets `[hidden] { display: none; }`\n",
              "     but bootstrap.min.css set `[hidden] { display: none !important; }`\n",
              "     so we also need the `!important` here to be able to override the\n",
              "     default hidden behavior on the sphinx rendered scikit-learn.org.\n",
              "     See: https://github.com/scikit-learn/scikit-learn/issues/21755 */\n",
              "  display: inline-block !important;\n",
              "  position: relative;\n",
              "}\n",
              "\n",
              "#sk-container-id-1 div.sk-text-repr-fallback {\n",
              "  display: none;\n",
              "}\n",
              "\n",
              "div.sk-parallel-item,\n",
              "div.sk-serial,\n",
              "div.sk-item {\n",
              "  /* draw centered vertical line to link estimators */\n",
              "  background-image: linear-gradient(var(--sklearn-color-text-on-default-background), var(--sklearn-color-text-on-default-background));\n",
              "  background-size: 2px 100%;\n",
              "  background-repeat: no-repeat;\n",
              "  background-position: center center;\n",
              "}\n",
              "\n",
              "/* Parallel-specific style estimator block */\n",
              "\n",
              "#sk-container-id-1 div.sk-parallel-item::after {\n",
              "  content: \"\";\n",
              "  width: 100%;\n",
              "  border-bottom: 2px solid var(--sklearn-color-text-on-default-background);\n",
              "  flex-grow: 1;\n",
              "}\n",
              "\n",
              "#sk-container-id-1 div.sk-parallel {\n",
              "  display: flex;\n",
              "  align-items: stretch;\n",
              "  justify-content: center;\n",
              "  background-color: var(--sklearn-color-background);\n",
              "  position: relative;\n",
              "}\n",
              "\n",
              "#sk-container-id-1 div.sk-parallel-item {\n",
              "  display: flex;\n",
              "  flex-direction: column;\n",
              "}\n",
              "\n",
              "#sk-container-id-1 div.sk-parallel-item:first-child::after {\n",
              "  align-self: flex-end;\n",
              "  width: 50%;\n",
              "}\n",
              "\n",
              "#sk-container-id-1 div.sk-parallel-item:last-child::after {\n",
              "  align-self: flex-start;\n",
              "  width: 50%;\n",
              "}\n",
              "\n",
              "#sk-container-id-1 div.sk-parallel-item:only-child::after {\n",
              "  width: 0;\n",
              "}\n",
              "\n",
              "/* Serial-specific style estimator block */\n",
              "\n",
              "#sk-container-id-1 div.sk-serial {\n",
              "  display: flex;\n",
              "  flex-direction: column;\n",
              "  align-items: center;\n",
              "  background-color: var(--sklearn-color-background);\n",
              "  padding-right: 1em;\n",
              "  padding-left: 1em;\n",
              "}\n",
              "\n",
              "\n",
              "/* Toggleable style: style used for estimator/Pipeline/ColumnTransformer box that is\n",
              "clickable and can be expanded/collapsed.\n",
              "- Pipeline and ColumnTransformer use this feature and define the default style\n",
              "- Estimators will overwrite some part of the style using the `sk-estimator` class\n",
              "*/\n",
              "\n",
              "/* Pipeline and ColumnTransformer style (default) */\n",
              "\n",
              "#sk-container-id-1 div.sk-toggleable {\n",
              "  /* Default theme specific background. It is overwritten whether we have a\n",
              "  specific estimator or a Pipeline/ColumnTransformer */\n",
              "  background-color: var(--sklearn-color-background);\n",
              "}\n",
              "\n",
              "/* Toggleable label */\n",
              "#sk-container-id-1 label.sk-toggleable__label {\n",
              "  cursor: pointer;\n",
              "  display: block;\n",
              "  width: 100%;\n",
              "  margin-bottom: 0;\n",
              "  padding: 0.5em;\n",
              "  box-sizing: border-box;\n",
              "  text-align: center;\n",
              "}\n",
              "\n",
              "#sk-container-id-1 label.sk-toggleable__label-arrow:before {\n",
              "  /* Arrow on the left of the label */\n",
              "  content: \"▸\";\n",
              "  float: left;\n",
              "  margin-right: 0.25em;\n",
              "  color: var(--sklearn-color-icon);\n",
              "}\n",
              "\n",
              "#sk-container-id-1 label.sk-toggleable__label-arrow:hover:before {\n",
              "  color: var(--sklearn-color-text);\n",
              "}\n",
              "\n",
              "/* Toggleable content - dropdown */\n",
              "\n",
              "#sk-container-id-1 div.sk-toggleable__content {\n",
              "  max-height: 0;\n",
              "  max-width: 0;\n",
              "  overflow: hidden;\n",
              "  text-align: left;\n",
              "  /* unfitted */\n",
              "  background-color: var(--sklearn-color-unfitted-level-0);\n",
              "}\n",
              "\n",
              "#sk-container-id-1 div.sk-toggleable__content.fitted {\n",
              "  /* fitted */\n",
              "  background-color: var(--sklearn-color-fitted-level-0);\n",
              "}\n",
              "\n",
              "#sk-container-id-1 div.sk-toggleable__content pre {\n",
              "  margin: 0.2em;\n",
              "  border-radius: 0.25em;\n",
              "  color: var(--sklearn-color-text);\n",
              "  /* unfitted */\n",
              "  background-color: var(--sklearn-color-unfitted-level-0);\n",
              "}\n",
              "\n",
              "#sk-container-id-1 div.sk-toggleable__content.fitted pre {\n",
              "  /* unfitted */\n",
              "  background-color: var(--sklearn-color-fitted-level-0);\n",
              "}\n",
              "\n",
              "#sk-container-id-1 input.sk-toggleable__control:checked~div.sk-toggleable__content {\n",
              "  /* Expand drop-down */\n",
              "  max-height: 200px;\n",
              "  max-width: 100%;\n",
              "  overflow: auto;\n",
              "}\n",
              "\n",
              "#sk-container-id-1 input.sk-toggleable__control:checked~label.sk-toggleable__label-arrow:before {\n",
              "  content: \"▾\";\n",
              "}\n",
              "\n",
              "/* Pipeline/ColumnTransformer-specific style */\n",
              "\n",
              "#sk-container-id-1 div.sk-label input.sk-toggleable__control:checked~label.sk-toggleable__label {\n",
              "  color: var(--sklearn-color-text);\n",
              "  background-color: var(--sklearn-color-unfitted-level-2);\n",
              "}\n",
              "\n",
              "#sk-container-id-1 div.sk-label.fitted input.sk-toggleable__control:checked~label.sk-toggleable__label {\n",
              "  background-color: var(--sklearn-color-fitted-level-2);\n",
              "}\n",
              "\n",
              "/* Estimator-specific style */\n",
              "\n",
              "/* Colorize estimator box */\n",
              "#sk-container-id-1 div.sk-estimator input.sk-toggleable__control:checked~label.sk-toggleable__label {\n",
              "  /* unfitted */\n",
              "  background-color: var(--sklearn-color-unfitted-level-2);\n",
              "}\n",
              "\n",
              "#sk-container-id-1 div.sk-estimator.fitted input.sk-toggleable__control:checked~label.sk-toggleable__label {\n",
              "  /* fitted */\n",
              "  background-color: var(--sklearn-color-fitted-level-2);\n",
              "}\n",
              "\n",
              "#sk-container-id-1 div.sk-label label.sk-toggleable__label,\n",
              "#sk-container-id-1 div.sk-label label {\n",
              "  /* The background is the default theme color */\n",
              "  color: var(--sklearn-color-text-on-default-background);\n",
              "}\n",
              "\n",
              "/* On hover, darken the color of the background */\n",
              "#sk-container-id-1 div.sk-label:hover label.sk-toggleable__label {\n",
              "  color: var(--sklearn-color-text);\n",
              "  background-color: var(--sklearn-color-unfitted-level-2);\n",
              "}\n",
              "\n",
              "/* Label box, darken color on hover, fitted */\n",
              "#sk-container-id-1 div.sk-label.fitted:hover label.sk-toggleable__label.fitted {\n",
              "  color: var(--sklearn-color-text);\n",
              "  background-color: var(--sklearn-color-fitted-level-2);\n",
              "}\n",
              "\n",
              "/* Estimator label */\n",
              "\n",
              "#sk-container-id-1 div.sk-label label {\n",
              "  font-family: monospace;\n",
              "  font-weight: bold;\n",
              "  display: inline-block;\n",
              "  line-height: 1.2em;\n",
              "}\n",
              "\n",
              "#sk-container-id-1 div.sk-label-container {\n",
              "  text-align: center;\n",
              "}\n",
              "\n",
              "/* Estimator-specific */\n",
              "#sk-container-id-1 div.sk-estimator {\n",
              "  font-family: monospace;\n",
              "  border: 1px dotted var(--sklearn-color-border-box);\n",
              "  border-radius: 0.25em;\n",
              "  box-sizing: border-box;\n",
              "  margin-bottom: 0.5em;\n",
              "  /* unfitted */\n",
              "  background-color: var(--sklearn-color-unfitted-level-0);\n",
              "}\n",
              "\n",
              "#sk-container-id-1 div.sk-estimator.fitted {\n",
              "  /* fitted */\n",
              "  background-color: var(--sklearn-color-fitted-level-0);\n",
              "}\n",
              "\n",
              "/* on hover */\n",
              "#sk-container-id-1 div.sk-estimator:hover {\n",
              "  /* unfitted */\n",
              "  background-color: var(--sklearn-color-unfitted-level-2);\n",
              "}\n",
              "\n",
              "#sk-container-id-1 div.sk-estimator.fitted:hover {\n",
              "  /* fitted */\n",
              "  background-color: var(--sklearn-color-fitted-level-2);\n",
              "}\n",
              "\n",
              "/* Specification for estimator info (e.g. \"i\" and \"?\") */\n",
              "\n",
              "/* Common style for \"i\" and \"?\" */\n",
              "\n",
              ".sk-estimator-doc-link,\n",
              "a:link.sk-estimator-doc-link,\n",
              "a:visited.sk-estimator-doc-link {\n",
              "  float: right;\n",
              "  font-size: smaller;\n",
              "  line-height: 1em;\n",
              "  font-family: monospace;\n",
              "  background-color: var(--sklearn-color-background);\n",
              "  border-radius: 1em;\n",
              "  height: 1em;\n",
              "  width: 1em;\n",
              "  text-decoration: none !important;\n",
              "  margin-left: 1ex;\n",
              "  /* unfitted */\n",
              "  border: var(--sklearn-color-unfitted-level-1) 1pt solid;\n",
              "  color: var(--sklearn-color-unfitted-level-1);\n",
              "}\n",
              "\n",
              ".sk-estimator-doc-link.fitted,\n",
              "a:link.sk-estimator-doc-link.fitted,\n",
              "a:visited.sk-estimator-doc-link.fitted {\n",
              "  /* fitted */\n",
              "  border: var(--sklearn-color-fitted-level-1) 1pt solid;\n",
              "  color: var(--sklearn-color-fitted-level-1);\n",
              "}\n",
              "\n",
              "/* On hover */\n",
              "div.sk-estimator:hover .sk-estimator-doc-link:hover,\n",
              ".sk-estimator-doc-link:hover,\n",
              "div.sk-label-container:hover .sk-estimator-doc-link:hover,\n",
              ".sk-estimator-doc-link:hover {\n",
              "  /* unfitted */\n",
              "  background-color: var(--sklearn-color-unfitted-level-3);\n",
              "  color: var(--sklearn-color-background);\n",
              "  text-decoration: none;\n",
              "}\n",
              "\n",
              "div.sk-estimator.fitted:hover .sk-estimator-doc-link.fitted:hover,\n",
              ".sk-estimator-doc-link.fitted:hover,\n",
              "div.sk-label-container:hover .sk-estimator-doc-link.fitted:hover,\n",
              ".sk-estimator-doc-link.fitted:hover {\n",
              "  /* fitted */\n",
              "  background-color: var(--sklearn-color-fitted-level-3);\n",
              "  color: var(--sklearn-color-background);\n",
              "  text-decoration: none;\n",
              "}\n",
              "\n",
              "/* Span, style for the box shown on hovering the info icon */\n",
              ".sk-estimator-doc-link span {\n",
              "  display: none;\n",
              "  z-index: 9999;\n",
              "  position: relative;\n",
              "  font-weight: normal;\n",
              "  right: .2ex;\n",
              "  padding: .5ex;\n",
              "  margin: .5ex;\n",
              "  width: min-content;\n",
              "  min-width: 20ex;\n",
              "  max-width: 50ex;\n",
              "  color: var(--sklearn-color-text);\n",
              "  box-shadow: 2pt 2pt 4pt #999;\n",
              "  /* unfitted */\n",
              "  background: var(--sklearn-color-unfitted-level-0);\n",
              "  border: .5pt solid var(--sklearn-color-unfitted-level-3);\n",
              "}\n",
              "\n",
              ".sk-estimator-doc-link.fitted span {\n",
              "  /* fitted */\n",
              "  background: var(--sklearn-color-fitted-level-0);\n",
              "  border: var(--sklearn-color-fitted-level-3);\n",
              "}\n",
              "\n",
              ".sk-estimator-doc-link:hover span {\n",
              "  display: block;\n",
              "}\n",
              "\n",
              "/* \"?\"-specific style due to the `<a>` HTML tag */\n",
              "\n",
              "#sk-container-id-1 a.estimator_doc_link {\n",
              "  float: right;\n",
              "  font-size: 1rem;\n",
              "  line-height: 1em;\n",
              "  font-family: monospace;\n",
              "  background-color: var(--sklearn-color-background);\n",
              "  border-radius: 1rem;\n",
              "  height: 1rem;\n",
              "  width: 1rem;\n",
              "  text-decoration: none;\n",
              "  /* unfitted */\n",
              "  color: var(--sklearn-color-unfitted-level-1);\n",
              "  border: var(--sklearn-color-unfitted-level-1) 1pt solid;\n",
              "}\n",
              "\n",
              "#sk-container-id-1 a.estimator_doc_link.fitted {\n",
              "  /* fitted */\n",
              "  border: var(--sklearn-color-fitted-level-1) 1pt solid;\n",
              "  color: var(--sklearn-color-fitted-level-1);\n",
              "}\n",
              "\n",
              "/* On hover */\n",
              "#sk-container-id-1 a.estimator_doc_link:hover {\n",
              "  /* unfitted */\n",
              "  background-color: var(--sklearn-color-unfitted-level-3);\n",
              "  color: var(--sklearn-color-background);\n",
              "  text-decoration: none;\n",
              "}\n",
              "\n",
              "#sk-container-id-1 a.estimator_doc_link.fitted:hover {\n",
              "  /* fitted */\n",
              "  background-color: var(--sklearn-color-fitted-level-3);\n",
              "}\n",
              "</style><div id=\"sk-container-id-1\" class=\"sk-top-container\"><div class=\"sk-text-repr-fallback\"><pre>LogisticRegression(random_state=42)</pre><b>In a Jupyter environment, please rerun this cell to show the HTML representation or trust the notebook. <br />On GitHub, the HTML representation is unable to render, please try loading this page with nbviewer.org.</b></div><div class=\"sk-container\" hidden><div class=\"sk-item\"><div class=\"sk-estimator fitted sk-toggleable\"><input class=\"sk-toggleable__control sk-hidden--visually\" id=\"sk-estimator-id-1\" type=\"checkbox\" checked><label for=\"sk-estimator-id-1\" class=\"sk-toggleable__label fitted sk-toggleable__label-arrow fitted\">&nbsp;&nbsp;LogisticRegression<a class=\"sk-estimator-doc-link fitted\" rel=\"noreferrer\" target=\"_blank\" href=\"https://scikit-learn.org/1.5/modules/generated/sklearn.linear_model.LogisticRegression.html\">?<span>Documentation for LogisticRegression</span></a><span class=\"sk-estimator-doc-link fitted\">i<span>Fitted</span></span></label><div class=\"sk-toggleable__content fitted\"><pre>LogisticRegression(random_state=42)</pre></div> </div></div></div></div>"
            ],
            "text/plain": [
              "LogisticRegression(random_state=42)"
            ]
          },
          "execution_count": 21,
          "metadata": {},
          "output_type": "execute_result"
        }
      ],
      "source": [
        "log=LogisticRegression(random_state=42)\n",
        "log.fit(X_train,y_train)"
      ]
    },
    {
      "cell_type": "code",
      "execution_count": null,
      "id": "63aa2012-55f8-447f-80e2-01079904c79a",
      "metadata": {
        "id": "63aa2012-55f8-447f-80e2-01079904c79a"
      },
      "outputs": [],
      "source": [
        "log_preds=log.predict(X_test)"
      ]
    },
    {
      "cell_type": "code",
      "execution_count": null,
      "id": "a348051c-d497-479c-8e53-66e74c48ea1d",
      "metadata": {
        "id": "a348051c-d497-479c-8e53-66e74c48ea1d",
        "outputId": "a0b894ac-1694-4e19-834f-c9109f8e1b73"
      },
      "outputs": [
        {
          "data": {
            "text/plain": [
              "0.85"
            ]
          },
          "execution_count": 23,
          "metadata": {},
          "output_type": "execute_result"
        }
      ],
      "source": [
        "accuracy_score(y_test,log_preds)"
      ]
    },
    {
      "cell_type": "code",
      "execution_count": null,
      "id": "f4d09a31-943b-4610-9749-2dcf1f092e84",
      "metadata": {
        "id": "f4d09a31-943b-4610-9749-2dcf1f092e84",
        "outputId": "6ef933e3-1e19-4a40-c143-b52f1feedfc7"
      },
      "outputs": [
        {
          "name": "stdout",
          "output_type": "stream",
          "text": [
            "              precision    recall  f1-score   support\n",
            "\n",
            "       Besni       0.88      0.81      0.84        90\n",
            "     Kecimen       0.82      0.89      0.86        90\n",
            "\n",
            "    accuracy                           0.85       180\n",
            "   macro avg       0.85      0.85      0.85       180\n",
            "weighted avg       0.85      0.85      0.85       180\n",
            "\n"
          ]
        }
      ],
      "source": [
        "print(classification_report(y_test,log_preds))"
      ]
    },
    {
      "cell_type": "markdown",
      "id": "d2126b95-725d-4688-864e-297e22de2b7e",
      "metadata": {
        "id": "d2126b95-725d-4688-864e-297e22de2b7e"
      },
      "source": [
        "## 5-fold cross validation"
      ]
    },
    {
      "cell_type": "code",
      "execution_count": null,
      "id": "5f4f89c6-19c1-4b6e-9c43-eb82b342adf7",
      "metadata": {
        "id": "5f4f89c6-19c1-4b6e-9c43-eb82b342adf7"
      },
      "outputs": [],
      "source": [
        "model=RandomForestClassifier()\n",
        "scores= cross_validate(model,x,y,cv=5,scoring=[\"accuracy\",\"precision\",\"recall\",\"f1\"])"
      ]
    },
    {
      "cell_type": "code",
      "execution_count": null,
      "id": "a0e4d5e4-ca30-41d4-a5bc-50b5acac4370",
      "metadata": {
        "id": "a0e4d5e4-ca30-41d4-a5bc-50b5acac4370",
        "outputId": "3562c893-a81d-4fcd-bc56-d8a0ceda3f05"
      },
      "outputs": [
        {
          "name": "stdout",
          "output_type": "stream",
          "text": [
            "{'fit_time': array([0.38071489, 0.33401871, 0.37212491, 0.35700917, 0.33580542]), 'score_time': array([0.03223968, 0.03376412, 0.02614808, 0.01587701, 0.01988983]), 'test_accuracy': array([0.87777778, 0.87777778, 0.85555556, 0.83888889, 0.84444444]), 'test_precision': array([nan, nan, nan, nan, nan]), 'test_recall': array([nan, nan, nan, nan, nan]), 'test_f1': array([nan, nan, nan, nan, nan])}\n"
          ]
        }
      ],
      "source": [
        "print(scores)"
      ]
    },
    {
      "cell_type": "code",
      "execution_count": null,
      "id": "c7afb859-7902-4784-a3ca-66b1d3131e2d",
      "metadata": {
        "id": "c7afb859-7902-4784-a3ca-66b1d3131e2d"
      },
      "outputs": [],
      "source": []
    }
  ],
  "metadata": {
    "kernelspec": {
      "display_name": "Python 3 (ipykernel)",
      "language": "python",
      "name": "python3"
    },
    "language_info": {
      "codemirror_mode": {
        "name": "ipython",
        "version": 3
      },
      "file_extension": ".py",
      "mimetype": "text/x-python",
      "name": "python",
      "nbconvert_exporter": "python",
      "pygments_lexer": "ipython3",
      "version": "3.12.7"
    },
    "colab": {
      "provenance": [],
      "include_colab_link": true
    }
  },
  "nbformat": 4,
  "nbformat_minor": 5
}